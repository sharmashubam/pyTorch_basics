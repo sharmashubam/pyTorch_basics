{
  "nbformat": 4,
  "nbformat_minor": 0,
  "metadata": {
    "colab": {
      "provenance": [],
      "authorship_tag": "ABX9TyMBD7uF98wYJfgewKeK6ecf",
      "include_colab_link": true
    },
    "kernelspec": {
      "name": "python3",
      "display_name": "Python 3"
    },
    "language_info": {
      "name": "python"
    }
  },
  "cells": [
    {
      "cell_type": "markdown",
      "metadata": {
        "id": "view-in-github",
        "colab_type": "text"
      },
      "source": [
        "<a href=\"https://colab.research.google.com/github/sharmashubam/pyTorch_basics/blob/main/01_pyTorch_workflow.ipynb\" target=\"_parent\"><img src=\"https://colab.research.google.com/assets/colab-badge.svg\" alt=\"Open In Colab\"/></a>"
      ]
    },
    {
      "cell_type": "code",
      "execution_count": null,
      "metadata": {
        "colab": {
          "base_uri": "https://localhost:8080/",
          "height": 35
        },
        "id": "GrqurgEc5x4z",
        "outputId": "07e803bb-8c56-475b-8cbb-bd35dfefc07b"
      },
      "outputs": [
        {
          "output_type": "execute_result",
          "data": {
            "text/plain": [
              "'1.13.1+cu116'"
            ],
            "application/vnd.google.colaboratory.intrinsic+json": {
              "type": "string"
            }
          },
          "metadata": {},
          "execution_count": 2
        }
      ],
      "source": [
        "import torch \n",
        "from  torch import nn\n",
        "import matplotlib.pyplot as plt\n",
        "torch.__version__"
      ]
    },
    {
      "cell_type": "code",
      "source": [
        "#creating known parameters\n",
        "\n",
        "weight = 0.7\n",
        "bias = 0.3\n",
        "\n",
        "# creating the data\n",
        "start= 0\n",
        "end =10\n",
        "step = 0.02\n",
        "X = torch.arange(start, end, step).unsqueeze(dim=1)\n",
        "y = weight*X + bias\n",
        "X[:10], y[:10]\n"
      ],
      "metadata": {
        "id": "_QygNKB9kOIm",
        "colab": {
          "base_uri": "https://localhost:8080/"
        },
        "outputId": "ae69bfcf-a25c-451f-b8e4-69cf9c065217"
      },
      "execution_count": null,
      "outputs": [
        {
          "output_type": "execute_result",
          "data": {
            "text/plain": [
              "(tensor([[0.0000],\n",
              "         [0.0200],\n",
              "         [0.0400],\n",
              "         [0.0600],\n",
              "         [0.0800],\n",
              "         [0.1000],\n",
              "         [0.1200],\n",
              "         [0.1400],\n",
              "         [0.1600],\n",
              "         [0.1800]]),\n",
              " tensor([[0.3000],\n",
              "         [0.3140],\n",
              "         [0.3280],\n",
              "         [0.3420],\n",
              "         [0.3560],\n",
              "         [0.3700],\n",
              "         [0.3840],\n",
              "         [0.3980],\n",
              "         [0.4120],\n",
              "         [0.4260]]))"
            ]
          },
          "metadata": {},
          "execution_count": 3
        }
      ]
    },
    {
      "cell_type": "code",
      "source": [
        "# splitting the data into training and testing\n",
        "\n",
        "# Create train/test split\n",
        "train_split = int(0.8 * len(X)) # 80% of data used for training set, 20% for testing \n",
        "X_train, y_train = X[:train_split], y[:train_split]\n",
        "X_test, y_test = X[train_split:], y[train_split:]\n",
        "\n",
        "len(X_train), len(y_train), len(X_test), len(y_test)"
      ],
      "metadata": {
        "colab": {
          "base_uri": "https://localhost:8080/"
        },
        "id": "flRDtwccG_f3",
        "outputId": "8fa023cd-b92f-48f2-8bd1-a2580d852ac9"
      },
      "execution_count": null,
      "outputs": [
        {
          "output_type": "execute_result",
          "data": {
            "text/plain": [
              "(400, 400, 100, 100)"
            ]
          },
          "metadata": {},
          "execution_count": 4
        }
      ]
    },
    {
      "cell_type": "code",
      "source": [
        "# visualising hte data\n",
        "\n",
        "def plot_predictions(train_data=X_train, \n",
        "                     train_labels=y_train, \n",
        "                     test_data=X_test, \n",
        "                     test_labels=y_test, \n",
        "                     predictions=None):\n",
        "  \n",
        "  plt.figure(figsize=(10, 7))\n",
        "\n",
        "  # Plot training data in blue\n",
        "  plt.scatter(train_data, train_labels, c=\"b\", s=4, label=\"Training data\")\n",
        "  \n",
        "  # Plot test data in green\n",
        "  plt.scatter(test_data, test_labels, c=\"g\", s=4, label=\"Testing data\")\n",
        "  plt.legend(prop={\"size\": 14});"
      ],
      "metadata": {
        "id": "C1MiAB9_HZ5Y"
      },
      "execution_count": null,
      "outputs": []
    },
    {
      "cell_type": "code",
      "source": [
        "plot_predictions()"
      ],
      "metadata": {
        "colab": {
          "base_uri": "https://localhost:8080/",
          "height": 599
        },
        "id": "vwj_jjWDIqSL",
        "outputId": "bb30694e-4107-4f72-84d8-af8679959aa4"
      },
      "execution_count": null,
      "outputs": [
        {
          "output_type": "display_data",
          "data": {
            "text/plain": [
              "<Figure size 1000x700 with 1 Axes>"
            ],
            "image/png": "[encoded data removed]"
          },
          "metadata": {}
        }
      ]
    },
    {
      "cell_type": "code",
      "source": [
        "#creaitng first pyTorch model\n",
        "\n",
        "class LinearRegressionModel(nn.Module):\n",
        "  def __init__(self):\n",
        "    super().__init__()\n",
        "\n",
        "    self.weights = nn.Parameter(torch.randn(1,\n",
        "                                            dtype=torch.float),\n",
        "                                   requires_grad=True) \n",
        "    self.bias = nn.Parameter(torch.randn(1,\n",
        "                                          dtype=torch.float), \n",
        "                                 requires_grad=True) \n",
        "    \n",
        "  \n",
        "  \n",
        "  def forward(self, x: torch.Tensor) -> torch.Tensor:\n",
        "    return self.weights * x + self.bias \n",
        "\n"
      ],
      "metadata": {
        "id": "aDTuryybJVSq"
      },
      "execution_count": null,
      "outputs": []
    },
    {
      "cell_type": "code",
      "source": [
        "#exploring pyTorch model\n",
        "torch.manual_seed(42)\n",
        "\n",
        "model_0= LinearRegressionModel()\n",
        "\n",
        "# checking the parameters\n",
        "list(model_0.parameters())\n"
      ],
      "metadata": {
        "colab": {
          "base_uri": "https://localhost:8080/"
        },
        "id": "umFz7ijNKRyS",
        "outputId": "ef87e411-ad7a-4c76-e7a7-86dc809197de"
      },
      "execution_count": null,
      "outputs": [
        {
          "output_type": "execute_result",
          "data": {
            "text/plain": [
              "[Parameter containing:\n",
              " tensor([0.3367], requires_grad=True),\n",
              " Parameter containing:\n",
              " tensor([0.1288], requires_grad=True)]"
            ]
          },
          "metadata": {},
          "execution_count": 8
        }
      ]
    },
    {
      "cell_type": "code",
      "source": [
        "# List named parameters \n",
        "model_0.state_dict()"
      ],
      "metadata": {
        "colab": {
          "base_uri": "https://localhost:8080/"
        },
        "id": "vKMKRSWSn59R",
        "outputId": "0c678131-2c95-4aa1-ff9a-54ae84072092"
      },
      "execution_count": null,
      "outputs": [
        {
          "output_type": "execute_result",
          "data": {
            "text/plain": [
              "OrderedDict([('weights', tensor([0.3367])), ('bias', tensor([0.1288]))])"
            ]
          },
          "metadata": {},
          "execution_count": 9
        }
      ]
    },
    {
      "cell_type": "code",
      "source": [
        "#making prediction using the model\n",
        "\n",
        "with torch.inference_mode(): \n",
        "    y_preds = model_0(X_test)"
      ],
      "metadata": {
        "id": "SOL9F2wIuMLN"
      },
      "execution_count": null,
      "outputs": []
    },
    {
      "cell_type": "code",
      "source": [
        "# setting hte loss fxn and optimizer\n",
        "\n",
        "# Create the loss function\n",
        "loss_fn = nn.L1Loss() # MAE loss is same as L1Loss\n",
        "\n",
        "# Create the optimizer\n",
        "optimizer = torch.optim.SGD(params=model_0.parameters(),\n",
        "                            lr=0.01)"
      ],
      "metadata": {
        "id": "0w3MHGaKvQde"
      },
      "execution_count": null,
      "outputs": []
    },
    {
      "cell_type": "code",
      "source": [
        "# Training loop intitution\n",
        "# building a training loop in pyTorch\n",
        "\n",
        "# step 0 --> Loop through the data\n",
        "epochs =100\n",
        "for epoch in range(epochs):\n",
        "\n",
        "  # Traininf the model\n",
        "  model_0.train()  # train mode sets all the parametes that require gradient descent to have gradient descent\n",
        "  \n",
        "  # step 1 : forward pass on train data using forward() method\n",
        "  y_pred = model_0(X_train)\n",
        "  # print(y_pred[:10])\n",
        "  \n",
        "  # step 2: calculate the loss\n",
        "  loss=loss_fn(y_pred,y_train)\n",
        "\n",
        "  # 3. Zero grad of the optimizer\n",
        "  optimizer.zero_grad()\n",
        "\n",
        "  # 4. Loss backwards\n",
        "  loss.backward()\n",
        "\n",
        "  # 5. Progress the optimizer\n",
        "  optimizer.step()\n",
        "\n",
        "\n",
        "  ### Testing the model  \n",
        "\n",
        "  # turns off the grad descent\n",
        "  model_0.eval()\n",
        "\n",
        "  with torch.inference_mode():\n",
        "\n",
        "    # 1. Froward pass\n",
        "    test_pred= model_0(X_test)\n",
        "\n",
        "    # 2 calculate the test loss\n",
        "    test_loss= loss_fn(test_pred, y_test)\n"
      ],
      "metadata": {
        "id": "JGzUcWJ2k6Ri"
      },
      "execution_count": null,
      "outputs": []
    },
    {
      "cell_type": "code",
      "source": [],
      "metadata": {
        "id": "5ZHpOlqJ6vWh"
      },
      "execution_count": null,
      "outputs": []
    }
  ]
}